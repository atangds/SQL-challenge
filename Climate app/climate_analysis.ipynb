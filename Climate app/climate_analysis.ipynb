{
 "cells": [
  {
   "cell_type": "code",
   "execution_count": 1,
   "metadata": {},
   "outputs": [],
   "source": [
    "from sqlalchemy import create_engine, inspect, func\n",
    "from sqlalchemy.ext.automap import automap_base\n",
    "from sqlalchemy.orm import Session\n",
    "import datetime as dt\n",
    "import pandas as pd\n",
    "import numpy as np\n",
    "import matplotlib.pyplot as plt"
   ]
  },
  {
   "cell_type": "code",
   "execution_count": 2,
   "metadata": {},
   "outputs": [],
   "source": [
    "engine = create_engine(\"sqlite:///hawaii.sqlite\")\n",
    "conn = engine.connect()"
   ]
  },
  {
   "cell_type": "code",
   "execution_count": 3,
   "metadata": {},
   "outputs": [],
   "source": [
    "Base = automap_base()\n",
    "Base.prepare(engine, reflect=True)"
   ]
  },
  {
   "cell_type": "code",
   "execution_count": 4,
   "metadata": {},
   "outputs": [
    {
     "data": {
      "text/plain": [
       "['measurements', 'stations']"
      ]
     },
     "execution_count": 4,
     "metadata": {},
     "output_type": "execute_result"
    }
   ],
   "source": [
    "Base.classes.keys()"
   ]
  },
  {
   "cell_type": "code",
   "execution_count": 5,
   "metadata": {},
   "outputs": [
    {
     "name": "stdout",
     "output_type": "stream",
     "text": [
      "id INTEGER\n",
      "station VARCHAR(255)\n",
      "date VARCHAR(255)\n",
      "prcp FLOAT\n",
      "tobs INTEGER\n"
     ]
    }
   ],
   "source": [
    "m_columns = inspect(engine).get_columns(\"measurements\")\n",
    "for column in m_columns:\n",
    "    print(column[\"name\"], column[\"type\"])"
   ]
  },
  {
   "cell_type": "code",
   "execution_count": 6,
   "metadata": {},
   "outputs": [
    {
     "name": "stdout",
     "output_type": "stream",
     "text": [
      "station VARCHAR(255)\n",
      "name VARCHAR(255)\n",
      "latitude FLOAT\n",
      "longitude FLOAT\n",
      "elevation FLOAT\n"
     ]
    }
   ],
   "source": [
    "s_columns = inspect(engine).get_columns(\"stations\")\n",
    "for column in s_columns:\n",
    "    print(column[\"name\"], column[\"type\"])"
   ]
  },
  {
   "cell_type": "code",
   "execution_count": 7,
   "metadata": {},
   "outputs": [],
   "source": [
    "Measurement = Base.classes.measurements\n",
    "Station = Base.classes.stations"
   ]
  },
  {
   "cell_type": "code",
   "execution_count": 8,
   "metadata": {},
   "outputs": [],
   "source": [
    "session = Session(bind=engine)"
   ]
  },
  {
   "cell_type": "code",
   "execution_count": 9,
   "metadata": {},
   "outputs": [
    {
     "data": {
      "text/plain": [
       "'2017-08-23'"
      ]
     },
     "execution_count": 9,
     "metadata": {},
     "output_type": "execute_result"
    }
   ],
   "source": [
    "# Get the most recent date.\n",
    "last_date = session.query(Measurement.date).order_by(Measurement.date.desc()).first()[0]\n",
    "last_date"
   ]
  },
  {
   "cell_type": "code",
   "execution_count": 10,
   "metadata": {},
   "outputs": [
    {
     "data": {
      "text/plain": [
       "datetime.datetime(2016, 8, 23, 0, 0)"
      ]
     },
     "execution_count": 10,
     "metadata": {},
     "output_type": "execute_result"
    }
   ],
   "source": [
    "# Get the date of 12 months ago.\n",
    "first_date = dt.datetime.strptime(last_date, \"%Y-%m-%d\") - dt.timedelta(days=365)\n",
    "first_date"
   ]
  },
  {
   "cell_type": "markdown",
   "metadata": {},
   "source": [
    "## Precipitation Analysis"
   ]
  },
  {
   "cell_type": "code",
   "execution_count": 11,
   "metadata": {},
   "outputs": [
    {
     "data": {
      "text/html": [
       "<div>\n",
       "<style scoped>\n",
       "    .dataframe tbody tr th:only-of-type {\n",
       "        vertical-align: middle;\n",
       "    }\n",
       "\n",
       "    .dataframe tbody tr th {\n",
       "        vertical-align: top;\n",
       "    }\n",
       "\n",
       "    .dataframe thead th {\n",
       "        text-align: right;\n",
       "    }\n",
       "</style>\n",
       "<table border=\"1\" class=\"dataframe\">\n",
       "  <thead>\n",
       "    <tr style=\"text-align: right;\">\n",
       "      <th></th>\n",
       "      <th>prcp</th>\n",
       "    </tr>\n",
       "    <tr>\n",
       "      <th>date</th>\n",
       "      <th></th>\n",
       "    </tr>\n",
       "  </thead>\n",
       "  <tbody>\n",
       "    <tr>\n",
       "      <th>2016-08-24</th>\n",
       "      <td>0.08</td>\n",
       "    </tr>\n",
       "    <tr>\n",
       "      <th>2016-08-25</th>\n",
       "      <td>0.08</td>\n",
       "    </tr>\n",
       "    <tr>\n",
       "      <th>2016-08-26</th>\n",
       "      <td>0.00</td>\n",
       "    </tr>\n",
       "    <tr>\n",
       "      <th>2016-08-27</th>\n",
       "      <td>0.00</td>\n",
       "    </tr>\n",
       "    <tr>\n",
       "      <th>2016-08-28</th>\n",
       "      <td>0.01</td>\n",
       "    </tr>\n",
       "  </tbody>\n",
       "</table>\n",
       "</div>"
      ],
      "text/plain": [
       "            prcp\n",
       "date            \n",
       "2016-08-24  0.08\n",
       "2016-08-25  0.08\n",
       "2016-08-26  0.00\n",
       "2016-08-27  0.00\n",
       "2016-08-28  0.01"
      ]
     },
     "execution_count": 11,
     "metadata": {},
     "output_type": "execute_result"
    }
   ],
   "source": [
    "# The last 12 months of precipitation data.\n",
    "q1 = session.query(Measurement.date, Measurement.prcp).filter(Measurement.date > first_date)\n",
    "df1 = pd.read_sql(q1.statement, conn).set_index(\"date\")\n",
    "df1.head()"
   ]
  },
  {
   "cell_type": "code",
   "execution_count": 12,
   "metadata": {},
   "outputs": [],
   "source": [
    "locs = np.linspace(5, df1.shape[0]-2, num=9)\n",
    "labels = [df1.index[int(_)] for _ in locs]"
   ]
  },
  {
   "cell_type": "code",
   "execution_count": 13,
   "metadata": {},
   "outputs": [
    {
     "data": {
      "image/png": "[encoded data removed]",
      "text/plain": [
       "<matplotlib.figure.Figure at 0x262df648860>"
      ]
     },
     "metadata": {},
     "output_type": "display_data"
    }
   ],
   "source": [
    "plt.style.use(\"seaborn\")\n",
    "df1.plot(y=\"prcp\", use_index=True, c=\"royalblue\", lw=5, label=\"precipitation\", figsize=(10,6))\n",
    "plt.xlabel(\"date\", size=25)\n",
    "plt.xticks(locs, labels, size=25, rotation=45)\n",
    "plt.yticks(range(0,8,2), size=25)\n",
    "plt.xlim(0,df1.shape[0])\n",
    "plt.legend(loc=\"upper left\", fontsize=25, frameon=True)\n",
    "plt.show()"
   ]
  },
  {
   "cell_type": "code",
   "execution_count": 14,
   "metadata": {},
   "outputs": [
    {
     "data": {
      "text/plain": [
       "count    2015.000000\n",
       "mean        0.176462\n",
       "std         0.460288\n",
       "min         0.000000\n",
       "25%         0.000000\n",
       "50%         0.020000\n",
       "75%         0.130000\n",
       "max         6.700000\n",
       "Name: prcp, dtype: float64"
      ]
     },
     "execution_count": 14,
     "metadata": {},
     "output_type": "execute_result"
    }
   ],
   "source": [
    "# The summary statistics for the precipitation data.\n",
    "df1[\"prcp\"].describe()"
   ]
  },
  {
   "cell_type": "markdown",
   "metadata": {},
   "source": [
    "## Station Analysis"
   ]
  },
  {
   "cell_type": "code",
   "execution_count": 15,
   "metadata": {},
   "outputs": [
    {
     "data": {
      "text/plain": [
       "9"
      ]
     },
     "execution_count": 15,
     "metadata": {},
     "output_type": "execute_result"
    }
   ],
   "source": [
    "# The total number of stations.\n",
    "session.query(Station.station).count()"
   ]
  },
  {
   "cell_type": "code",
   "execution_count": 16,
   "metadata": {},
   "outputs": [
    {
     "data": {
      "text/plain": [
       "[('USC00519281', 2772),\n",
       " ('USC00513117', 2696),\n",
       " ('USC00519397', 2685),\n",
       " ('USC00519523', 2572),\n",
       " ('USC00516128', 2484),\n",
       " ('USC00514830', 1937),\n",
       " ('USC00511918', 1932),\n",
       " ('USC00517948', 683),\n",
       " ('USC00518838', 342)]"
      ]
     },
     "execution_count": 16,
     "metadata": {},
     "output_type": "execute_result"
    }
   ],
   "source": [
    "# The most active stations by observation counts.\n",
    "q2 = session.query(Station.station, func.count(Measurement.id)).filter(Station.station == Measurement.station).\\\n",
    "group_by(Station.station).order_by(func.count(Measurement.id).desc())\n",
    "q2.all()"
   ]
  },
  {
   "cell_type": "code",
   "execution_count": 17,
   "metadata": {},
   "outputs": [],
   "source": [
    "# The last 12 months of temperature observation data (tobs) at Station USC00519281.\n",
    "q3 = session.query(Measurement.tobs).filter(Measurement.date > first_date).filter(Measurement.station == q2.first()[0])\n",
    "q3_temps = [q3.all()[_][0] for _ in range(len(q3.all()))]"
   ]
  },
  {
   "cell_type": "code",
   "execution_count": 18,
   "metadata": {},
   "outputs": [
    {
     "data": {
      "image/png": "[encoded data removed]",
      "text/plain": [
       "<matplotlib.figure.Figure at 0x262e0a9f860>"
      ]
     },
     "metadata": {},
     "output_type": "display_data"
    }
   ],
   "source": [
    "plt.figure(figsize=(10,7.5))\n",
    "plt.hist(q3_temps, bins=12, color=\"royalblue\", label=\"tobs\")\n",
    "plt.ylabel(\"Frequency\", size=20)\n",
    "plt.xticks(size=20)\n",
    "plt.yticks(size=20)\n",
    "plt.legend(fontsize=20, frameon=True)\n",
    "plt.show()"
   ]
  },
  {
   "cell_type": "markdown",
   "metadata": {},
   "source": [
    "## Temperature Analysis"
   ]
  },
  {
   "cell_type": "code",
   "execution_count": 19,
   "metadata": {},
   "outputs": [],
   "source": [
    "def calc_temps(start_date, end_date):\n",
    "    avg_temp = session.query(func.avg(Measurement.tobs)).filter(Measurement.date.between(start_date, end_date)).one()[0]\n",
    "    max_temp = session.query(func.max(Measurement.tobs)).filter(Measurement.date.between(start_date, end_date)).one()[0]\n",
    "    min_temp = session.query(func.min(Measurement.tobs)).filter(Measurement.date.between(start_date, end_date)).one()[0]\n",
    "    return avg_temp, max_temp, min_temp"
   ]
  },
  {
   "cell_type": "code",
   "execution_count": 20,
   "metadata": {},
   "outputs": [
    {
     "data": {
      "text/plain": [
       "(68.1025641025641, 74, 62)"
      ]
     },
     "execution_count": 20,
     "metadata": {},
     "output_type": "execute_result"
    }
   ],
   "source": [
    "# Temperatures for my trip using the matching dates from the previous year.\n",
    "trip_temps = calc_temps(\"2017-01-01\", \"2017-01-07\")\n",
    "trip_temps"
   ]
  },
  {
   "cell_type": "code",
   "execution_count": 21,
   "metadata": {},
   "outputs": [
    {
     "data": {
      "image/png": "[encoded data removed]",
      "text/plain": [
       "<matplotlib.figure.Figure at 0x262e0b1d470>"
      ]
     },
     "metadata": {},
     "output_type": "display_data"
    }
   ],
   "source": [
    "plt.figure(figsize=(2.5,7.5))\n",
    "plt.bar(0, trip_temps[0], yerr=trip_temps[1]-trip_temps[2], color=\"lightsalmon\", width=.75, alpha=.5, \n",
    "        error_kw={\"elinewidth\": 2.5})\n",
    "plt.title(\"Trip Avg Temp\", size=15)\n",
    "plt.ylabel(\"Temp (F)\", size=12.5)\n",
    "plt.xticks([])\n",
    "plt.yticks(size=12.5)\n",
    "plt.xlim(-.5,.5)\n",
    "plt.ylim(ymax=100)\n",
    "plt.show()"
   ]
  },
  {
   "cell_type": "markdown",
   "metadata": {},
   "source": [
    "## Bonus"
   ]
  },
  {
   "cell_type": "code",
   "execution_count": 22,
   "metadata": {},
   "outputs": [
    {
     "data": {
      "text/plain": [
       "[('USC00519397', '2017-01-01', 0.0),\n",
       " ('USC00519397', '2017-01-02', 0.0),\n",
       " ('USC00519397', '2017-01-03', 0.0),\n",
       " ('USC00519397', '2017-01-04', 0.0),\n",
       " ('USC00519397', '2017-01-05', 0.0),\n",
       " ('USC00519397', '2017-01-06', 0.0),\n",
       " ('USC00519397', '2017-01-07', 0.0),\n",
       " ('USC00513117', '2017-01-01', 0.29),\n",
       " ('USC00513117', '2017-01-02', 0.0),\n",
       " ('USC00513117', '2017-01-03', 0.0),\n",
       " ('USC00513117', '2017-01-04', 0.0),\n",
       " ('USC00513117', '2017-01-05', 0.0),\n",
       " ('USC00513117', '2017-01-06', 0.0),\n",
       " ('USC00513117', '2017-01-07', 0.06),\n",
       " ('USC00514830', '2017-01-01', 0.0),\n",
       " ('USC00514830', '2017-01-02', 0.01),\n",
       " ('USC00514830', '2017-01-03', 0.0),\n",
       " ('USC00514830', '2017-01-04', 0.0),\n",
       " ('USC00514830', '2017-01-05', 0.0),\n",
       " ('USC00514830', '2017-01-06', 0.59),\n",
       " ('USC00514830', '2017-01-07', 0.0),\n",
       " ('USC00519523', '2017-01-04', 0.18),\n",
       " ('USC00519523', '2017-01-05', 0.42),\n",
       " ('USC00519523', '2017-01-06', 0.01),\n",
       " ('USC00519523', '2017-01-07', 0.0),\n",
       " ('USC00519281', '2017-01-01', 0.03),\n",
       " ('USC00519281', '2017-01-02', 0.01),\n",
       " ('USC00519281', '2017-01-03', 0.0),\n",
       " ('USC00519281', '2017-01-04', 0.0),\n",
       " ('USC00519281', '2017-01-05', 0.06),\n",
       " ('USC00519281', '2017-01-06', 0.1),\n",
       " ('USC00519281', '2017-01-07', 0.0),\n",
       " ('USC00516128', '2017-01-01', 0.03),\n",
       " ('USC00516128', '2017-01-02', 0.0),\n",
       " ('USC00516128', '2017-01-03', 0.0),\n",
       " ('USC00516128', '2017-01-04', 0.0),\n",
       " ('USC00516128', '2017-01-05', 0.47),\n",
       " ('USC00516128', '2017-01-06', 0.1),\n",
       " ('USC00516128', '2017-01-07', 0.0)]"
      ]
     },
     "execution_count": 22,
     "metadata": {},
     "output_type": "execute_result"
    }
   ],
   "source": [
    "# The rainfall per weather station using the previous year's matching dates.\n",
    "session.query(Measurement.station, Measurement.date, Measurement.prcp).\\\n",
    "filter(Measurement.date.between(\"2017-01-01\", \"2017-01-07\")).all()"
   ]
  },
  {
   "cell_type": "code",
   "execution_count": 23,
   "metadata": {},
   "outputs": [],
   "source": [
    "# Calculate the daily normals. Normals are the averages (by year) for min, avg, and max temperatures (by date).\n",
    "def daily_normals(date):\n",
    "    q_avg = session.query(func.avg(Measurement.tobs).label(\"avgs\")).filter(func.strftime(\"%m-%d\", Measurement.date) == date).\\\n",
    "    group_by(Measurement.date)\n",
    "    q_max = session.query(func.max(Measurement.tobs).label(\"maxs\")).filter(func.strftime(\"%m-%d\", Measurement.date) == date).\\\n",
    "    group_by(Measurement.date)\n",
    "    q_min = session.query(func.min(Measurement.tobs).label(\"mins\")).filter(func.strftime(\"%m-%d\", Measurement.date) == date).\\\n",
    "    group_by(Measurement.date)\n",
    "    avg = session.query(func.avg(q_avg.subquery().columns.avgs)).one()[0]\n",
    "    max = session.query(func.avg(q_max.subquery().columns.maxs)).one()[0]\n",
    "    min = session.query(func.avg(q_min.subquery().columns.mins)).one()[0]\n",
    "    return date, avg, max, min"
   ]
  },
  {
   "cell_type": "code",
   "execution_count": 24,
   "metadata": {},
   "outputs": [
    {
     "data": {
      "text/plain": [
       "['01-01', '01-02', '01-03', '01-04', '01-05', '01-06', '01-07']"
      ]
     },
     "execution_count": 24,
     "metadata": {},
     "output_type": "execute_result"
    }
   ],
   "source": [
    "dates = [\"01-\" + str(_+1).zfill(2) for _ in range(7)]\n",
    "dates"
   ]
  },
  {
   "cell_type": "code",
   "execution_count": 25,
   "metadata": {},
   "outputs": [
    {
     "data": {
      "text/plain": [
       "[('01-01', 68.98154761904762, 73.625, 64.75),\n",
       " ('01-02', 69.4077380952381, 73.625, 65.625),\n",
       " ('01-03', 68.75803571428571, 72.75, 64.75),\n",
       " ('01-04', 69.68199404761904, 74.0, 64.5),\n",
       " ('01-05', 68.16919642857144, 72.75, 64.125),\n",
       " ('01-06', 69.13333333333333, 73.0, 65.25),\n",
       " ('01-07', 68.671875, 72.25, 63.375)]"
      ]
     },
     "execution_count": 25,
     "metadata": {},
     "output_type": "execute_result"
    }
   ],
   "source": [
    "normals = [daily_normals(date) for date in dates]\n",
    "normals"
   ]
  },
  {
   "cell_type": "code",
   "execution_count": 26,
   "metadata": {},
   "outputs": [
    {
     "data": {
      "text/html": [
       "<div>\n",
       "<style scoped>\n",
       "    .dataframe tbody tr th:only-of-type {\n",
       "        vertical-align: middle;\n",
       "    }\n",
       "\n",
       "    .dataframe tbody tr th {\n",
       "        vertical-align: top;\n",
       "    }\n",
       "\n",
       "    .dataframe thead th {\n",
       "        text-align: right;\n",
       "    }\n",
       "</style>\n",
       "<table border=\"1\" class=\"dataframe\">\n",
       "  <thead>\n",
       "    <tr style=\"text-align: right;\">\n",
       "      <th></th>\n",
       "      <th>tavg</th>\n",
       "      <th>tmax</th>\n",
       "      <th>tmin</th>\n",
       "    </tr>\n",
       "    <tr>\n",
       "      <th>date</th>\n",
       "      <th></th>\n",
       "      <th></th>\n",
       "      <th></th>\n",
       "    </tr>\n",
       "  </thead>\n",
       "  <tbody>\n",
       "    <tr>\n",
       "      <th>01-01</th>\n",
       "      <td>68.981548</td>\n",
       "      <td>73.625</td>\n",
       "      <td>64.750</td>\n",
       "    </tr>\n",
       "    <tr>\n",
       "      <th>01-02</th>\n",
       "      <td>69.407738</td>\n",
       "      <td>73.625</td>\n",
       "      <td>65.625</td>\n",
       "    </tr>\n",
       "    <tr>\n",
       "      <th>01-03</th>\n",
       "      <td>68.758036</td>\n",
       "      <td>72.750</td>\n",
       "      <td>64.750</td>\n",
       "    </tr>\n",
       "    <tr>\n",
       "      <th>01-04</th>\n",
       "      <td>69.681994</td>\n",
       "      <td>74.000</td>\n",
       "      <td>64.500</td>\n",
       "    </tr>\n",
       "    <tr>\n",
       "      <th>01-05</th>\n",
       "      <td>68.169196</td>\n",
       "      <td>72.750</td>\n",
       "      <td>64.125</td>\n",
       "    </tr>\n",
       "    <tr>\n",
       "      <th>01-06</th>\n",
       "      <td>69.133333</td>\n",
       "      <td>73.000</td>\n",
       "      <td>65.250</td>\n",
       "    </tr>\n",
       "    <tr>\n",
       "      <th>01-07</th>\n",
       "      <td>68.671875</td>\n",
       "      <td>72.250</td>\n",
       "      <td>63.375</td>\n",
       "    </tr>\n",
       "  </tbody>\n",
       "</table>\n",
       "</div>"
      ],
      "text/plain": [
       "            tavg    tmax    tmin\n",
       "date                            \n",
       "01-01  68.981548  73.625  64.750\n",
       "01-02  69.407738  73.625  65.625\n",
       "01-03  68.758036  72.750  64.750\n",
       "01-04  69.681994  74.000  64.500\n",
       "01-05  68.169196  72.750  64.125\n",
       "01-06  69.133333  73.000  65.250\n",
       "01-07  68.671875  72.250  63.375"
      ]
     },
     "execution_count": 26,
     "metadata": {},
     "output_type": "execute_result"
    }
   ],
   "source": [
    "df2 = pd.DataFrame(normals, columns=[\"date\", \"tavg\", \"tmax\", \"tmin\"]).set_index(\"date\")\n",
    "df2"
   ]
  },
  {
   "cell_type": "code",
   "execution_count": 27,
   "metadata": {},
   "outputs": [
    {
     "name": "stderr",
     "output_type": "stream",
     "text": [
      "C:\\Users\\Anthony\\Anaconda3\\envs\\PythonData\\lib\\site-packages\\pandas\\plotting\\_core.py:1716: UserWarning: Pandas doesn't allow columns to be created via a new attribute name - see https://pandas.pydata.org/pandas-docs/stable/indexing.html#attribute-access\n",
      "  series.name = label\n"
     ]
    },
    {
     "data": {
      "image/png": "[encoded data removed]",
      "text/plain": [
       "<matplotlib.figure.Figure at 0x262dc5c11d0>"
      ]
     },
     "metadata": {},
     "output_type": "display_data"
    }
   ],
   "source": [
    "df2.plot(y=[\"tavg\", \"tmax\", \"tmin\"], use_index=True, kind=\"area\", stacked=False, lw=2, alpha=.5, figsize=(10,7.5))\n",
    "plt.xlabel(\"date\", size=25)\n",
    "plt.xticks(range(7), [\"2018-\"+ date for date in dates], size=25, rotation=45)\n",
    "plt.yticks(range(0,100,20), size=25)\n",
    "plt.xlim(0,6)\n",
    "plt.legend(loc=\"lower left\", fontsize=25, frameon=True)\n",
    "plt.show()"
   ]
  },
  {
   "cell_type": "code",
   "execution_count": null,
   "metadata": {},
   "outputs": [],
   "source": []
  }
 ],
 "metadata": {
  "kernelspec": {
   "display_name": "Python [conda env:PythonData]",
   "language": "python",
   "name": "conda-env-PythonData-py"
  },
  "language_info": {
   "codemirror_mode": {
    "name": "ipython",
    "version": 3
   },
   "file_extension": ".py",
   "mimetype": "text/x-python",
   "name": "python",
   "nbconvert_exporter": "python",
   "pygments_lexer": "ipython3",
   "version": "3.6.4"
  }
 },
 "nbformat": 4,
 "nbformat_minor": 2
}
